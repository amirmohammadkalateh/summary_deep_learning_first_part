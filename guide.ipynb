{
  "nbformat": 4,
  "nbformat_minor": 0,
  "metadata": {
    "colab": {
      "provenance": [],
      "authorship_tag": "ABX9TyMHtboJoLp/HGsxWX8K/39r",
      "include_colab_link": true
    },
    "kernelspec": {
      "name": "python3",
      "display_name": "Python 3"
    },
    "language_info": {
      "name": "python"
    }
  },
  "cells": [
    {
      "cell_type": "markdown",
      "metadata": {
        "id": "view-in-github",
        "colab_type": "text"
      },
      "source": [
        "<a href=\"https://colab.research.google.com/github/amirmohammadkalateh/summary_deep_learning_first_part/blob/main/guide.ipynb\" target=\"_parent\"><img src=\"https://colab.research.google.com/assets/colab-badge.svg\" alt=\"Open In Colab\"/></a>"
      ]
    },
    {
      "cell_type": "code",
      "execution_count": 1,
      "metadata": {
        "colab": {
          "base_uri": "https://localhost:8080/"
        },
        "id": "CYZTzJMptiGy",
        "outputId": "8e9eae34-8e0e-424c-a1ae-25253723a021"
      },
      "outputs": [
        {
          "output_type": "stream",
          "name": "stderr",
          "text": [
            "/usr/local/lib/python3.11/dist-packages/keras/src/layers/core/dense.py:87: UserWarning: Do not pass an `input_shape`/`input_dim` argument to a layer. When using Sequential models, prefer using an `Input(shape)` object as the first layer in the model instead.\n",
            "  super().__init__(activity_regularizer=activity_regularizer, **kwargs)\n"
          ]
        },
        {
          "output_type": "stream",
          "name": "stdout",
          "text": [
            "Epoch 1/20\n",
            "\u001b[1m22/22\u001b[0m \u001b[32m━━━━━━━━━━━━━━━━━━━━\u001b[0m\u001b[37m\u001b[0m \u001b[1m4s\u001b[0m 40ms/step - accuracy: 0.4695 - loss: 0.7031 - val_accuracy: 0.4800 - val_loss: 0.7026\n",
            "Epoch 2/20\n",
            "\u001b[1m22/22\u001b[0m \u001b[32m━━━━━━━━━━━━━━━━━━━━\u001b[0m\u001b[37m\u001b[0m \u001b[1m0s\u001b[0m 20ms/step - accuracy: 0.5365 - loss: 0.6817 - val_accuracy: 0.5067 - val_loss: 0.6981\n",
            "Epoch 3/20\n",
            "\u001b[1m22/22\u001b[0m \u001b[32m━━━━━━━━━━━━━━━━━━━━\u001b[0m\u001b[37m\u001b[0m \u001b[1m0s\u001b[0m 11ms/step - accuracy: 0.5541 - loss: 0.6805 - val_accuracy: 0.5400 - val_loss: 0.6949\n",
            "Epoch 4/20\n",
            "\u001b[1m22/22\u001b[0m \u001b[32m━━━━━━━━━━━━━━━━━━━━\u001b[0m\u001b[37m\u001b[0m \u001b[1m0s\u001b[0m 10ms/step - accuracy: 0.5891 - loss: 0.6705 - val_accuracy: 0.5400 - val_loss: 0.6949\n",
            "Epoch 5/20\n",
            "\u001b[1m22/22\u001b[0m \u001b[32m━━━━━━━━━━━━━━━━━━━━\u001b[0m\u001b[37m\u001b[0m \u001b[1m0s\u001b[0m 9ms/step - accuracy: 0.5933 - loss: 0.6704 - val_accuracy: 0.5467 - val_loss: 0.6931\n",
            "Epoch 6/20\n",
            "\u001b[1m22/22\u001b[0m \u001b[32m━━━━━━━━━━━━━━━━━━━━\u001b[0m\u001b[37m\u001b[0m \u001b[1m0s\u001b[0m 8ms/step - accuracy: 0.5911 - loss: 0.6590 - val_accuracy: 0.5333 - val_loss: 0.6944\n",
            "Epoch 7/20\n",
            "\u001b[1m22/22\u001b[0m \u001b[32m━━━━━━━━━━━━━━━━━━━━\u001b[0m\u001b[37m\u001b[0m \u001b[1m0s\u001b[0m 13ms/step - accuracy: 0.5886 - loss: 0.6577 - val_accuracy: 0.5333 - val_loss: 0.6934\n",
            "Epoch 8/20\n",
            "\u001b[1m22/22\u001b[0m \u001b[32m━━━━━━━━━━━━━━━━━━━━\u001b[0m\u001b[37m\u001b[0m \u001b[1m1s\u001b[0m 18ms/step - accuracy: 0.6167 - loss: 0.6504 - val_accuracy: 0.5333 - val_loss: 0.6926\n",
            "Epoch 9/20\n",
            "\u001b[1m22/22\u001b[0m \u001b[32m━━━━━━━━━━━━━━━━━━━━\u001b[0m\u001b[37m\u001b[0m \u001b[1m1s\u001b[0m 22ms/step - accuracy: 0.6208 - loss: 0.6453 - val_accuracy: 0.5400 - val_loss: 0.6937\n",
            "Epoch 10/20\n",
            "\u001b[1m22/22\u001b[0m \u001b[32m━━━━━━━━━━━━━━━━━━━━\u001b[0m\u001b[37m\u001b[0m \u001b[1m0s\u001b[0m 13ms/step - accuracy: 0.6301 - loss: 0.6406 - val_accuracy: 0.5933 - val_loss: 0.6950\n",
            "Epoch 11/20\n",
            "\u001b[1m22/22\u001b[0m \u001b[32m━━━━━━━━━━━━━━━━━━━━\u001b[0m\u001b[37m\u001b[0m \u001b[1m1s\u001b[0m 24ms/step - accuracy: 0.6568 - loss: 0.6324 - val_accuracy: 0.5467 - val_loss: 0.6955\n",
            "Epoch 12/20\n",
            "\u001b[1m22/22\u001b[0m \u001b[32m━━━━━━━━━━━━━━━━━━━━\u001b[0m\u001b[37m\u001b[0m \u001b[1m1s\u001b[0m 36ms/step - accuracy: 0.6631 - loss: 0.6269 - val_accuracy: 0.5600 - val_loss: 0.6955\n",
            "Epoch 13/20\n",
            "\u001b[1m22/22\u001b[0m \u001b[32m━━━━━━━━━━━━━━━━━━━━\u001b[0m\u001b[37m\u001b[0m \u001b[1m1s\u001b[0m 15ms/step - accuracy: 0.6932 - loss: 0.6134 - val_accuracy: 0.5667 - val_loss: 0.6951\n",
            "Epoch 14/20\n",
            "\u001b[1m22/22\u001b[0m \u001b[32m━━━━━━━━━━━━━━━━━━━━\u001b[0m\u001b[37m\u001b[0m \u001b[1m1s\u001b[0m 23ms/step - accuracy: 0.6414 - loss: 0.6301 - val_accuracy: 0.5467 - val_loss: 0.6987\n",
            "Epoch 15/20\n",
            "\u001b[1m22/22\u001b[0m \u001b[32m━━━━━━━━━━━━━━━━━━━━\u001b[0m\u001b[37m\u001b[0m \u001b[1m0s\u001b[0m 12ms/step - accuracy: 0.6924 - loss: 0.6054 - val_accuracy: 0.5600 - val_loss: 0.6983\n",
            "Epoch 16/20\n",
            "\u001b[1m22/22\u001b[0m \u001b[32m━━━━━━━━━━━━━━━━━━━━\u001b[0m\u001b[37m\u001b[0m \u001b[1m0s\u001b[0m 10ms/step - accuracy: 0.6838 - loss: 0.6139 - val_accuracy: 0.5600 - val_loss: 0.7001\n",
            "Epoch 17/20\n",
            "\u001b[1m22/22\u001b[0m \u001b[32m━━━━━━━━━━━━━━━━━━━━\u001b[0m\u001b[37m\u001b[0m \u001b[1m0s\u001b[0m 10ms/step - accuracy: 0.7061 - loss: 0.6013 - val_accuracy: 0.5667 - val_loss: 0.7014\n",
            "Epoch 18/20\n",
            "\u001b[1m22/22\u001b[0m \u001b[32m━━━━━━━━━━━━━━━━━━━━\u001b[0m\u001b[37m\u001b[0m \u001b[1m0s\u001b[0m 11ms/step - accuracy: 0.7220 - loss: 0.5875 - val_accuracy: 0.5733 - val_loss: 0.7032\n",
            "Epoch 19/20\n",
            "\u001b[1m22/22\u001b[0m \u001b[32m━━━━━━━━━━━━━━━━━━━━\u001b[0m\u001b[37m\u001b[0m \u001b[1m1s\u001b[0m 15ms/step - accuracy: 0.7008 - loss: 0.5980 - val_accuracy: 0.5867 - val_loss: 0.7022\n",
            "Epoch 20/20\n",
            "\u001b[1m22/22\u001b[0m \u001b[32m━━━━━━━━━━━━━━━━━━━━\u001b[0m\u001b[37m\u001b[0m \u001b[1m1s\u001b[0m 23ms/step - accuracy: 0.7147 - loss: 0.5881 - val_accuracy: 0.5867 - val_loss: 0.7035\n",
            "Test Loss: 0.7098\n",
            "Test Accuracy: 0.5467\n",
            "\u001b[1m1/1\u001b[0m \u001b[32m━━━━━━━━━━━━━━━━━━━━\u001b[0m\u001b[37m\u001b[0m \u001b[1m0s\u001b[0m 176ms/step\n",
            "\n",
            "Predictions on new data:\n",
            "[[0.65794086]\n",
            " [0.5559092 ]\n",
            " [0.6096176 ]\n",
            " [0.3732396 ]\n",
            " [0.4495583 ]]\n"
          ]
        }
      ],
      "source": [
        "import numpy as np\n",
        "import tensorflow as tf\n",
        "from sklearn.model_selection import train_test_split\n",
        "from sklearn.preprocessing import StandardScaler\n",
        "\n",
        "# 1. Define the Problem and Gather Data (Simulated Data)\n",
        "# Let's simulate some binary classification data\n",
        "np.random.seed(42)\n",
        "X = np.random.rand(1000, 10)  # 1000 samples, 10 features\n",
        "y = np.random.randint(0, 2, 1000) # Binary labels (0 or 1)\n",
        "\n",
        "# 2. Preprocess the Data\n",
        "# Split data into training, validation, and test sets\n",
        "X_train, X_temp, y_train, y_temp = train_test_split(X, y, test_size=0.3, random_state=42)\n",
        "X_val, X_test, y_val, y_test = train_test_split(X_temp, y_temp, test_size=0.5, random_state=42)\n",
        "\n",
        "# Feature Scaling (Standardization)\n",
        "scaler = StandardScaler()\n",
        "X_train = scaler.fit_transform(X_train)\n",
        "X_val = scaler.transform(X_val)\n",
        "X_test = scaler.transform(X_test)\n",
        "\n",
        "# 3. Design the Neural Network Architecture (using Keras Sequential API)\n",
        "model = tf.keras.models.Sequential([\n",
        "    tf.keras.layers.Dense(64, activation='relu', input_shape=(X_train.shape[1],)), # Input layer with 64 neurons, ReLU activation\n",
        "    tf.keras.layers.Dense(32, activation='relu'),                                   # Hidden layer with 32 neurons, ReLU activation\n",
        "    tf.keras.layers.Dense(1, activation='sigmoid')                                  # Output layer with 1 neuron (binary), Sigmoid activation\n",
        "])\n",
        "\n",
        "# 4. Choose Loss Function and Optimizer\n",
        "model.compile(optimizer='adam',\n",
        "              loss='binary_crossentropy',\n",
        "              metrics=['accuracy'])\n",
        "\n",
        "# 5. Train the Model\n",
        "epochs = 20\n",
        "batch_size = 32\n",
        "\n",
        "history = model.fit(X_train, y_train,\n",
        "                    epochs=epochs,\n",
        "                    batch_size=batch_size,\n",
        "                    validation_data=(X_val, y_val))\n",
        "\n",
        "# You can visualize the training history (loss and accuracy) here using matplotlib\n",
        "\n",
        "# 6. Evaluate the Model\n",
        "loss, accuracy = model.evaluate(X_test, y_test, verbose=0)\n",
        "print(f\"Test Loss: {loss:.4f}\")\n",
        "print(f\"Test Accuracy: {accuracy:.4f}\")\n",
        "\n",
        "# 7. Hyperparameter Tuning (Illustrative - Not Executed Here)\n",
        "# This would involve trying different numbers of layers, neurons, activation functions,\n",
        "# optimizers, learning rates, batch sizes, and epochs, often using techniques like\n",
        "# GridSearchCV or RandomizedSearchCV (from scikit-learn) with cross-validation.\n",
        "\n",
        "# For example, you might try a different optimizer:\n",
        "# model.compile(optimizer='rmsprop', loss='binary_crossentropy', metrics=['accuracy'])\n",
        "# Or a different number of neurons:\n",
        "# model = tf.keras.models.Sequential([\n",
        "#     tf.keras.layers.Dense(128, activation='relu', input_shape=(X_train.shape[1],)),\n",
        "#     tf.keras.layers.Dense(1, activation='sigmoid')\n",
        "# ])\n",
        "# ... and so on, evaluating the performance on the validation set for each configuration.\n",
        "\n",
        "# 8. Deployment and Monitoring (Conceptual - No Deployment Here)\n",
        "# Deployment would involve saving the trained model:\n",
        "# model.save('my_binary_classifier.h5')\n",
        "# And then loading it in a production environment to make predictions on new data.\n",
        "# Monitoring would involve tracking the model's performance over time and potentially retraining if it degrades.\n",
        "\n",
        "# Example of making predictions on new data\n",
        "new_data = np.random.rand(5, 10) # 5 new samples, 10 features\n",
        "new_data_scaled = scaler.transform(new_data) # Remember to scale new data!\n",
        "predictions = model.predict(new_data_scaled)\n",
        "print(\"\\nPredictions on new data:\")\n",
        "print(predictions)"
      ]
    }
  ]
}